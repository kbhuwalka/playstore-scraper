{
 "metadata": {
  "name": "PrivacyGrade"
 },
 "nbformat": 3,
 "nbformat_minor": 0,
 "worksheets": [
  {
   "cells": [
    {
     "cell_type": "code",
     "collapsed": false,
     "input": [
      "%pylab inline\n",
      "from pymongo import MongoClient\n",
      "pylab.rcParams['figure.figsize'] = (10.0, 10.0)\n",
      "import pandas as pd\n",
      "from matplotlib import font_manager as fm\n",
      "from mpltools import style\n",
      "style.use(\"ggplot\")\n",
      "appListTimestamp = \"201408152332\"\n",
      "timeStr = \"Aug. 2014\""
     ],
     "language": "python",
     "metadata": {},
     "outputs": [],
     "prompt_number": "*"
    },
    {
     "cell_type": "code",
     "collapsed": false,
     "input": [
      "USERNAME = \"privacygrade\"\n",
      "PASSWORD = \"h!W*W~fmKb67a!yqddvGVY?FZ]>z<2id\"\n",
      "client = MongoClient(\"pdev\", 27017)\n",
      "client[\"admin\"].authenticate(USERNAME, PASSWORD)\n",
      "dbPrivacyGrading = client['privacygrading']"
     ],
     "language": "python",
     "metadata": {},
     "outputs": [],
     "prompt_number": "*"
    },
    {
     "cell_type": "code",
     "collapsed": false,
     "input": [
      "levelCount = [dbPrivacyGrading.packagePair.find({'level': level}).count() for level in ['A','B','C','D']]"
     ],
     "language": "python",
     "metadata": {},
     "outputs": [],
     "prompt_number": "*"
    },
    {
     "cell_type": "code",
     "collapsed": false,
     "input": [
      "levelCount"
     ],
     "language": "python",
     "metadata": {},
     "outputs": [],
     "prompt_number": "*"
    },
    {
     "cell_type": "code",
     "collapsed": false,
     "input": [
      "patches, texts, autotexts = pie(levelCount, colors = ['green', 'lightgreen', 'yellow', 'orange', 'red'], explode =[0.05, 0.05, 0.05, 0.05, 0.05], labels = ['A+', 'A','B','C','D'], autopct='%1.1f%%', shadow=True)\n",
      "\n",
      "proptease = fm.FontProperties()\n",
      "proptease.set_size('x-large')\n",
      "plt.setp(autotexts, fontproperties=proptease)\n",
      "plt.setp(texts, fontproperties=proptease)\n",
      "savefig('../%s/figures/privacyGradeLevel.svg'%appListTimestamp)"
     ],
     "language": "python",
     "metadata": {},
     "outputs": [],
     "prompt_number": "*"
    },
    {
     "cell_type": "code",
     "collapsed": false,
     "input": [],
     "language": "python",
     "metadata": {},
     "outputs": []
    }
   ],
   "metadata": {}
  }
 ]
}