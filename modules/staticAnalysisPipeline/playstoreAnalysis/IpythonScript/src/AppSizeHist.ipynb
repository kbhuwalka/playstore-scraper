{
 "metadata": {
  "name": "AppSizeHist"
 },
 "nbformat": 3,
 "nbformat_minor": 0,
 "worksheets": [
  {
   "cells": [
    {
     "cell_type": "code",
     "collapsed": false,
     "input": [
      "%pylab inline"
     ],
     "language": "python",
     "metadata": {},
     "outputs": [
      {
       "output_type": "stream",
       "stream": "stdout",
       "text": [
        "\n",
        "Welcome to pylab, a matplotlib-based Python environment [backend: module://IPython.zmq.pylab.backend_inline].\n",
        "For more information, type 'help(pylab)'.\n"
       ]
      }
     ],
     "prompt_number": 74
    },
    {
     "cell_type": "code",
     "collapsed": false,
     "input": [
      "import pandas as pd\n",
      "from mpltools import style\n",
      "appListTimestamp = \"201408152332\"\n",
      "timeStr = \"Aug. 2014\""
     ],
     "language": "python",
     "metadata": {},
     "outputs": [],
     "prompt_number": "*"
    },
    {
     "cell_type": "code",
     "collapsed": false,
     "input": [
      "f = open(\"../%s/data/installationSizeList\"%appListTimestamp)"
     ],
     "language": "python",
     "metadata": {},
     "outputs": [],
     "prompt_number": "*"
    },
    {
     "cell_type": "code",
     "collapsed": false,
     "input": [
      "s = pd.Series([float(entry.rstrip('\\n')) for entry in f.readlines()])\n",
      "s"
     ],
     "language": "python",
     "metadata": {},
     "outputs": [],
     "prompt_number": "*"
    },
    {
     "cell_type": "code",
     "collapsed": false,
     "input": [
      "qPoint = s.quantile(0.8)/1339496.0\n",
      "s = s[s<52428800].order()/1339496.0#total 777104 with installationsize; among them 5702 exceed size limit 50mb"
     ],
     "language": "python",
     "metadata": {},
     "outputs": [],
     "prompt_number": "*"
    },
    {
     "cell_type": "code",
     "collapsed": false,
     "input": [
      "pylab.rcParams['figure.figsize'] = (10.0, 8.0)\n",
      "import matplotlib.ticker as plticker\n",
      "loc = plticker.MultipleLocator(base=2.0) \n",
      "\n",
      "style.use(\"ggplot\")\n",
      "fig, ax = subplots()\n",
      "ax.hist(s, bins=200, color = \"lightseagreen\")\n",
      "\n",
      "ax.set_xlabel(\"App Size (MB)\")\n",
      "ax.set_ylabel(\"Number of Apps\")\n",
      "ax.set_title(\"App Installation Size Histogram (Play Store Jan. 2014)\")\n",
      "ax.xaxis.set_major_locator(loc)\n",
      "vlines(qPoint, 0, 120000, linestyles=\"--\",label = str(qPoint) + \"MB \\n 80% quantile\")\n",
      "ax.legend()\n",
      "savefig(\"../%s/figures/appSizeHist.svg\"%appListTimestamp)"
     ],
     "language": "python",
     "metadata": {},
     "outputs": [],
     "prompt_number": "*"
    },
    {
     "cell_type": "code",
     "collapsed": false,
     "input": [
      "s[:120000]"
     ],
     "language": "python",
     "metadata": {},
     "outputs": [
      {
       "output_type": "pyout",
       "prompt_number": 40,
       "text": [
        "244805    0.003271\n",
        "247331    0.003777\n",
        "520701    0.004040\n",
        "520699    0.004155\n",
        "270346    0.004238\n",
        "765740    0.004402\n",
        "814576    0.004617\n",
        "521001    0.004635\n",
        "521000    0.004636\n",
        "520999    0.004637\n",
        "206529    0.004638\n",
        "296738    0.004688\n",
        "329618    0.004696\n",
        "329647    0.004696\n",
        "817633    0.004697\n",
        "...\n",
        "281724    0.268027\n",
        "610016    0.268027\n",
        "739541    0.268031\n",
        "850235    0.268032\n",
        "635474    0.268033\n",
        "739339    0.268033\n",
        "73446     0.268036\n",
        "190180    0.268037\n",
        "835474    0.268043\n",
        "383037    0.268044\n",
        "669419    0.268044\n",
        "833886    0.268046\n",
        "638468    0.268049\n",
        "208719    0.268050\n",
        "312219    0.268055\n",
        "Length: 120000, dtype: float64"
       ]
      }
     ],
     "prompt_number": 40
    },
    {
     "cell_type": "code",
     "collapsed": false,
     "input": [],
     "language": "python",
     "metadata": {},
     "outputs": []
    }
   ],
   "metadata": {}
  }
 ]
}